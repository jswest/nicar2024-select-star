{
 "cells": [
  {
   "cell_type": "markdown",
   "id": "809a884e-8c3f-489b-9980-b316f0763ebc",
   "metadata": {},
   "source": [
    "# SELECT * FROM interesting"
   ]
  },
  {
   "cell_type": "code",
   "execution_count": null,
   "id": "e50f861f-b18a-4ab3-b19c-ab00ddc34516",
   "metadata": {},
   "outputs": [],
   "source": [
    "import json\n",
    "import math\n",
    "import matplotlib.pyplot as plt\n",
    "import os\n",
    "import pandas as pd\n",
    "from PIL import Image\n",
    "from sklearn.model_selection import train_test_split\n",
    "from sklearn.metrics import accuracy_score, confusion_matrix, precision_score, recall_score\n",
    "from sklearn.neural_network import MLPClassifier\n",
    "from transformers import CLIPProcessor, CLIPModel\n",
    "from tqdm import tqdm\n",
    "\n",
    "tqdm.pandas()"
   ]
  },
  {
   "cell_type": "code",
   "execution_count": null,
   "id": "ba664cd8-cf2d-448f-b597-df0777d1d51e",
   "metadata": {},
   "outputs": [],
   "source": [
    "image_model = CLIPModel.from_pretrained(\n",
    "    \"openai/clip-vit-base-patch32\", cache_dir=\"../models\"\n",
    ")\n",
    "image_processor = CLIPProcessor.from_pretrained(\n",
    "    \"openai/clip-vit-base-patch32\", cache_dir=\"../models\"\n",
    ")\n",
    "\n",
    "idx_df = pd.read_csv(\"./../data/index.csv\")\n",
    "\n",
    "def get_vector_from_filename(fn):\n",
    "    img = Image.open(f\"./../data/image-{fn}\")\n",
    "    inputs = image_processor(images=img, return_tensors=\"pt\")\n",
    "    return image_model.get_image_features(**inputs)[0].tolist()\n",
    "\n",
    "idx_df['vector'] = idx_df['image_filename'].progress_apply(get_vector_from_filename)"
   ]
  },
  {
   "cell_type": "code",
   "execution_count": null,
   "id": "cf8ff0fc-13df-4188-9538-66c2a4331525",
   "metadata": {},
   "outputs": [],
   "source": [
    "cfx_df = pd.read_json('./../data/human-classifications.json')\n",
    "training_df = pd.merge(\n",
    "    idx_df,\n",
    "    cfx_df[cfx_df['name'] == \"contains_human\"],\n",
    "    left_on=\"id\",\n",
    "    right_on=\"image_id\",\n",
    "    how=\"inner\"\n",
    ") \\\n",
    "    [[\"id\", \"image_filename\", \"value\", \"vector\"]] \\\n",
    "    .rename(columns={\"value\": \"contains_human\"})\n",
    "\n",
    "training_df['contains_human'] = training_df['contains_human'].apply(lambda d: 1 if d == True else 0)"
   ]
  },
  {
   "cell_type": "code",
   "execution_count": null,
   "id": "5acf6a47-c7e5-4ab0-a00d-e8c6593c6bef",
   "metadata": {},
   "outputs": [],
   "source": [
    "# Split the data into training and testing sets\n",
    "x_train, x_test, y_train, y_test, image_filename_train, image_filename_test = train_test_split(\n",
    "    training_df['vector'].tolist(),\n",
    "    training_df['contains_human'].tolist(),\n",
    "    training_df['image_filename'].tolist(),\n",
    "    test_size=0.25,\n",
    "    random_state=42\n",
    ")\n",
    "\n",
    "hidden_layer_sizes = (round(math.sqrt(len(x_train[0]))),)\n",
    "max_iter = 2000\n",
    "\n",
    "clf = MLPClassifier(hidden_layer_sizes=hidden_layer_sizes, max_iter=max_iter, random_state=42)\n",
    "clf.fit(x_train, y_train)\n",
    "\n",
    "y_pred = clf.predict(x_test)\n",
    "y_prob = clf.predict_proba(x_test)\n",
    "print(f\"Accuracy: {accuracy_score(y_test, y_pred)}\")\n",
    "print(f\"Precision: {precision_score(y_test, y_pred)}\")\n",
    "print(f\"Recall: {recall_score(y_test, y_pred)}\")"
   ]
  },
  {
   "cell_type": "code",
   "execution_count": null,
   "id": "f0021580-9ea8-4bc5-9055-cf77f4bc8e00",
   "metadata": {},
   "outputs": [],
   "source": [
    "for idx, image_filename in enumerate(image_filename_test):\n",
    "    if y_pred[idx] != y_test[idx]:\n",
    "        does = 'does' if y_pred[idx] == 1 else 'does not'\n",
    "        prop_percent = round(y_prob[idx][y_pred[idx]] * 100)\n",
    "        print(f\"The classifier is {prop_percent}% sure this {does} contain a human.\")\n",
    "        img = Image.open(f\"./../data/image-{image_filename}\")\n",
    "        plt.imshow(img, cmap=\"Greys_r\")\n",
    "        plt.show()"
   ]
  },
  {
   "cell_type": "code",
   "execution_count": null,
   "id": "e6930b69-5005-47e8-81de-91f5ded84a28",
   "metadata": {},
   "outputs": [],
   "source": [
    "predictions = clf.predict(idx_df['vector'].tolist())\n",
    "probabilities = clf.predict_proba(idx_df['vector'].tolist())\n",
    "\n",
    "classifications = []\n",
    "\n",
    "for idx, row in enumerate(idx_df.to_dict('records')):\n",
    "    pred = predictions[idx]\n",
    "    prob = probabilities[idx]\n",
    "    classifications.append({\n",
    "        \"image_id\": row[\"id\"],\n",
    "        \"contains_human\": int(pred), # Because it's an Int64 for dumb reasons.\n",
    "        \"probability\": float(prob[pred]), # See above.\n",
    "    })\n",
    "\n",
    "with open('./../data/machine-classifications.json', 'w') as out_file:\n",
    "    json.dump(classifications, out_file)"
   ]
  },
  {
   "cell_type": "code",
   "execution_count": null,
   "id": "8155d053-f57f-4dc2-a34b-39a651c09506",
   "metadata": {},
   "outputs": [],
   "source": [
    "clf_df = pd.read_json('./../data/machine-classifications.json')\n",
    "df = pd.merge(\n",
    "    idx_df[[\"id\", \"image_url\", \"date\", \"title\", \"creators\", \"image_filename\", \"vector\"]],\n",
    "    clf_df.rename(columns={\"image_id\": \"id\"}),\n",
    "    how=\"inner\"\n",
    ")"
   ]
  },
  {
   "cell_type": "code",
   "execution_count": null,
   "id": "69da3c37-a56a-4955-8d23-f28941a0313e",
   "metadata": {},
   "outputs": [],
   "source": [
    "out_data = []\n",
    "for row in df.to_dict('records'):\n",
    "    out_data.append({\n",
    "        'id': row['id'],\n",
    "        \"contains_human\": row[\"contains_human\"],\n",
    "        'image_filename': row['image_filename'],\n",
    "        'vector': row['vector']\n",
    "    })\n",
    "\n",
    "with open('./../data/vectors.json', 'w') as out_file:\n",
    "    json.dump(out_data, out_file)"
   ]
  },
  {
   "cell_type": "code",
   "execution_count": null,
   "id": "28ee46c2-7dcd-4dd1-98c4-3901a91ef3af",
   "metadata": {},
   "outputs": [],
   "source": [
    "df.contains_human.value_counts()"
   ]
  },
  {
   "cell_type": "code",
   "execution_count": null,
   "id": "fa9d4176-8af5-4c55-9f9c-378f7d9f149d",
   "metadata": {},
   "outputs": [],
   "source": []
  }
 ],
 "metadata": {
  "kernelspec": {
   "display_name": "Python 3 (ipykernel)",
   "language": "python",
   "name": "python3"
  },
  "language_info": {
   "codemirror_mode": {
    "name": "ipython",
    "version": 3
   },
   "file_extension": ".py",
   "mimetype": "text/x-python",
   "name": "python",
   "nbconvert_exporter": "python",
   "pygments_lexer": "ipython3",
   "version": "3.10.6"
  }
 },
 "nbformat": 4,
 "nbformat_minor": 5
}
